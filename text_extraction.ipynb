{
 "cells": [
  {
   "cell_type": "code",
   "execution_count": null,
   "metadata": {},
   "outputs": [],
   "source": [
    "from sys import byteorder\n",
    "\n",
    "byteorder = 'big'\n"
   ]
  },
  {
   "cell_type": "markdown",
   "metadata": {},
   "source": [
    "以下サイトを参考にしました。  \n",
    "https://note.com/cider00/n/nf2b49924b13e"
   ]
  },
  {
   "cell_type": "code",
   "execution_count": null,
   "metadata": {},
   "outputs": [],
   "source": [
    "def extract_between_strings(filename, string_a, string_b):\n",
    "    \"\"\"\n",
    "    extract strings between string_a and string_b from file\n",
    "    \"\"\"\n",
    "    results = []\n",
    "    capture = False\n",
    "    buffer = []\n",
    "    \n",
    "    with open(filename, 'r', encoding='utf-8') as file:\n",
    "        for line in file:\n",
    "            if string_a in line:\n",
    "                capture = True\n",
    "                buffer.append(line)\n",
    "                continue\n",
    "            \n",
    "            if capture:\n",
    "                buffer.append(line)\n",
    "                if string_b in line:\n",
    "                    capture = False\n",
    "                    results.append(''.join(buffer))\n",
    "                    buffer = []\n",
    "\n",
    "    return results"
   ]
  },
  {
   "cell_type": "code",
   "execution_count": null,
   "metadata": {},
   "outputs": [],
   "source": [
    "def to_hex(vcs_string, suffix_to_remove):\n",
    "    # assume string as something like =89=C6=8C=76=95=EB\\nLOCATION\n",
    "    a = vcs_string.replace(\"=\",\"\")\n",
    "    b = a.replace(\"\\n\",\"\")\n",
    "    c = b.replace(suffix_to_remove,\"\")\n",
    "    return c\n",
    "\n",
    "def decode_string(preprocessed_string, encoding=\"shift-jis\"):\n",
    "    a = int(preprocessed_string, 16)\n",
    "    b = a.to_bytes(len(str(a)), 'big')\n",
    "    d = \"\"\n",
    "    try:\n",
    "        c = b.decode(encoding=encoding)\n",
    "        d = c.strip(\"\\x00\")\n",
    "    except UnicodeDecodeError as e:\n",
    "        try:\n",
    "            c = b.decode(encoding=\"cp932\")\n",
    "            d = c.strip(\"\\x00\")\n",
    "        except UnicodeDecodeError as e2:\n",
    "            print(\"catch UnicodeDecodeError. can't decode with shift-jis and cp932\")\n",
    "    finally:\n",
    "        return d\n",
    "    \n",
    "        "
   ]
  },
  {
   "cell_type": "markdown",
   "metadata": {},
   "source": [
    "#### DESCRITIONとCATEGORIESに囲まれた部分をまず取り出す"
   ]
  },
  {
   "cell_type": "code",
   "execution_count": null,
   "metadata": {},
   "outputs": [],
   "source": [
    "filename = 'data/[your_file].vcs'\n",
    "string_a = 'DESCRIPTION'\n",
    "string_b = 'CATEGORIES'\n",
    "extracted_strings_body = extract_between_strings(filename, string_a, string_b)\n",
    "\n",
    "# 出力（必要に応じて）\n",
    "for s in extracted_strings_body:\n",
    "    print(s)"
   ]
  },
  {
   "cell_type": "code",
   "execution_count": null,
   "metadata": {},
   "outputs": [],
   "source": [
    "# 題名部分\n",
    "string_c = 'SUMMARY'\n",
    "string_d = 'LOCATION'\n",
    "extracted_strings_title = extract_between_strings(filename, string_c, string_d)\n",
    "\n"
   ]
  },
  {
   "cell_type": "markdown",
   "metadata": {},
   "source": [
    "### 1行ごとに抜き出していく"
   ]
  },
  {
   "cell_type": "code",
   "execution_count": null,
   "metadata": {},
   "outputs": [],
   "source": [
    "text_dic = {}\n",
    "\n",
    "OUTPUT_FOLDER = \"output\"\n",
    "\n",
    "import os\n",
    "os.makedirs(OUTPUT_FOLDER, exist_ok=True)\n",
    "\n",
    "for title, body in zip(extracted_strings_title, extracted_strings_body):\n",
    "    # 中身は:で区切った二つ目\n",
    "    title_str = title.split(\":\")[1]\n",
    "    body_str = body.split(\":\")[1]\n",
    "    # titleはLOCATION, bodyはCAGORIRIESを消す\n",
    "    title_hex = to_hex(title_str, \"LOCATION\")\n",
    "    if title_hex == \"\" : continue\n",
    "    body_hex = to_hex(body_str, \"CATEGORIES\")\n",
    "    # 中身がなくてもタイトルだけのtextファイルを保存する\n",
    "    if body_hex == \"\" :\n",
    "        title_text = decode_string(title_hex)\n",
    "        text_dic[title_text] = \"\"\n",
    "    else:\n",
    "        body_text = decode_string(body_hex)\n",
    "        title_text = decode_string(title_hex)\n",
    "        text_dic[title_text] = body_text\n",
    "\n",
    "        \n",
    "\n",
    "\n",
    "print(text_dic)\n",
    "\n",
    "    "
   ]
  },
  {
   "cell_type": "code",
   "execution_count": null,
   "metadata": {},
   "outputs": [],
   "source": [
    "for title in text_dic:\n",
    "    with open(OUTPUT_FOLDER + \"/\" + title + \".txt\", mode=\"w\") as f:\n",
    "        f.write(text_dic[title])"
   ]
  },
  {
   "cell_type": "code",
   "execution_count": null,
   "metadata": {},
   "outputs": [],
   "source": []
  }
 ],
 "metadata": {
  "kernelspec": {
   "display_name": "venv",
   "language": "python",
   "name": "python3"
  },
  "language_info": {
   "codemirror_mode": {
    "name": "ipython",
    "version": 3
   },
   "file_extension": ".py",
   "mimetype": "text/x-python",
   "name": "python",
   "nbconvert_exporter": "python",
   "pygments_lexer": "ipython3",
   "version": "3.9.13"
  },
  "orig_nbformat": 4
 },
 "nbformat": 4,
 "nbformat_minor": 2
}
