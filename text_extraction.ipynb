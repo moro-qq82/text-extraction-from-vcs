{
 "cells": [
  {
   "cell_type": "code",
   "execution_count": null,
   "metadata": {},
   "outputs": [],
   "source": [
    "from sys import byteorder\n",
    "\n",
    "byteorder = 'big'\n"
   ]
  },
  {
   "cell_type": "markdown",
   "metadata": {},
   "source": [
    "以下サイトを参考にしました。  \n",
    "https://note.com/cider00/n/nf2b49924b13e"
   ]
  },
  {
   "cell_type": "code",
   "execution_count": null,
   "metadata": {},
   "outputs": [],
   "source": [
    "def extract_between_strings(filename, string_a, string_b):\n",
    "    \"\"\"\n",
    "    extract strings between string_a and string_b from file\n",
    "    \"\"\"\n",
    "    results = []\n",
    "    capture = False\n",
    "    buffer = []\n",
    "    \n",
    "    with open(filename, 'r', encoding='utf-8') as file:\n",
    "        for line in file:\n",
    "            if string_a in line:\n",
    "                capture = True\n",
    "                buffer.append(line)\n",
    "                continue\n",
    "            \n",
    "            if capture:\n",
    "                buffer.append(line)\n",
    "                if string_b in line:\n",
    "                    capture = False\n",
    "                    results.append(''.join(buffer))\n",
    "                    buffer = []\n",
    "\n",
    "    return results"
   ]
  },
  {
   "cell_type": "markdown",
   "metadata": {},
   "source": [
    "#### DESCRITIONとCATEGORIESに囲まれた部分をまず取り出す"
   ]
  },
  {
   "cell_type": "code",
   "execution_count": null,
   "metadata": {},
   "outputs": [],
   "source": [
    "filename = 'data/[your_file].vcs'\n",
    "string_a = 'DESCRIPTION'\n",
    "string_b = 'CATEGORIES'\n",
    "extracted_strings = extract_between_strings(filename, string_a, string_b)\n",
    "\n",
    "# 出力（必要に応じて）\n",
    "# for s in extracted_strings:\n",
    "#     print(s)"
   ]
  },
  {
   "cell_type": "markdown",
   "metadata": {},
   "source": [
    "### 1行ごとに抜き出していく"
   ]
  },
  {
   "cell_type": "code",
   "execution_count": null,
   "metadata": {},
   "outputs": [],
   "source": [
    "text_list = []\n",
    "\n",
    "for one_line in extracted_strings:\n",
    "    str_list = one_line.split(\":\")\n",
    "    # =,\\n, CAGORIRIESを消す\n",
    "    hex0 = str_list[1].replace(\"=\",\"\")\n",
    "    hex1 = hex0.replace(\"\\n\",\"\")\n",
    "    hex2 = hex1.replace(\"CATEGORIES\",\"\")\n",
    "\n",
    "    if hex2 == \"\" : continue\n",
    "    # 整数値、バイナリデータ、テキストの順に変換\n",
    "    d = int(hex2, 16)\n",
    "    bin_data = d.to_bytes(len(str(d)), byteorder)\n",
    "\n",
    "    # shift-jis, cp932両方で読めなかったらあきらめる(utf-8でも無理なものもある)\n",
    "    try:\n",
    "        text = bin_data.decode(encoding=\"shift-jis\")\n",
    "    except UnicodeDecodeError as e:\n",
    "        try:\n",
    "            text = bin_data.decode(encoding=\"cp932\")\n",
    "        except UnicodeDecodeError as e2:\n",
    "            print(\"catch UnicodeDecodeError. can't decode with shift-jis and cp932\")\n",
    "    \n",
    "    text_list.append(text)\n",
    "\n",
    "print(text_list)\n",
    "\n",
    "    "
   ]
  },
  {
   "cell_type": "code",
   "execution_count": null,
   "metadata": {},
   "outputs": [],
   "source": [
    "with open(\"output.txt\", mode=\"w\") as f:\n",
    "    for text in text_list:\n",
    "        f.write(text)"
   ]
  },
  {
   "cell_type": "code",
   "execution_count": null,
   "metadata": {},
   "outputs": [],
   "source": []
  }
 ],
 "metadata": {
  "kernelspec": {
   "display_name": "venv",
   "language": "python",
   "name": "python3"
  },
  "language_info": {
   "codemirror_mode": {
    "name": "ipython",
    "version": 3
   },
   "file_extension": ".py",
   "mimetype": "text/x-python",
   "name": "python",
   "nbconvert_exporter": "python",
   "pygments_lexer": "ipython3",
   "version": "3.9.13"
  },
  "orig_nbformat": 4
 },
 "nbformat": 4,
 "nbformat_minor": 2
}
